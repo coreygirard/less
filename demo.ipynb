{
 "cells": [
  {
   "cell_type": "code",
   "execution_count": 1,
   "metadata": {
    "collapsed": true
   },
   "outputs": [],
   "source": [
    "import numpy as np\n",
    "import matplotlib.pyplot as plt\n",
    "import less"
   ]
  },
  {
   "cell_type": "code",
   "execution_count": 2,
   "metadata": {
    "collapsed": true
   },
   "outputs": [],
   "source": [
    "np.random.seed(42)\n",
    "\n",
    "x = np.linspace(0, 2*np.pi, 50)\n",
    "y = np.sin(x)\n",
    "\n",
    "y2 = y + 0.1 * np.random.normal(size=x.shape)\n",
    "mask = np.abs(y-y2) > 0.18\n",
    "\n",
    "# tweak one point to be better within bounds\n",
    "i = [i for i,e in enumerate(mask) if e][-1]\n",
    "y2[i] += 2*(y[i]-y2[i])\n",
    "\n",
    "typical_x,typical_y = x[mask == False],y2[mask == False]\n",
    "outlier_x,outlier_y = x[mask],y2[mask]"
   ]
  },
  {
   "cell_type": "code",
   "execution_count": 3,
   "metadata": {},
   "outputs": [
    {
     "name": "stdout",
     "output_type": "stream",
     "text": [
      "unknown command: ['xlim()'] (-0.1, 6.383185307179586) {}\n",
      "unknown command: ['ylim()'] (-1.25, 1.25) {}\n"
     ]
    },
    {
     "data": {
      "image/png": "[encoded data removed]",
      "text/plain": [
       "<matplotlib.figure.Figure at 0x108f82d30>"
      ]
     },
     "metadata": {},
     "output_type": "display_data"
    }
   ],
   "source": [
    "# create chart\n",
    "chart = less.Chart(9,6) # args set size\n",
    "\n",
    "# draw data elements\n",
    "chart.plot(x=x, y=y) # defaults to dashed line\n",
    "chart.scatter(typical_x, typical_y, style='background') # grey\n",
    "chart.scatter(outlier_x, outlier_y, style='highlight') # color\n",
    "\n",
    "# creating and styling left axis\n",
    "chart.spine.left.visible(True)\n",
    "chart.spine.left.ticks.major([-1,0,1])\n",
    "chart.spine.left.ticks.minor(outlier_y)\n",
    "\n",
    "# creating and styling right axis\n",
    "chart.spine.right.visible(True)\n",
    "chart.spine.right.ticks.major([-1,0,1])\n",
    "chart.spine.right.ticks.minor(outlier_y)\n",
    "\n",
    "# creating ticks on bottom axis\n",
    "chart.spine.bottom.ticks.major([0, np.pi, 2*np.pi],\n",
    "                               labels=['0', '$\\pi$', '2$\\pi$'])\n",
    "chart.spine.bottom.ticks.minor(outlier_x)\n",
    "\n",
    "# setting extent of chart area\n",
    "chart.xlim(-0.1, 2*np.pi+0.1)\n",
    "chart.ylim(-1.25,1.25)\n",
    "\n",
    "# similar to plt.show()\n",
    "chart.render()"
   ]
  },
  {
   "cell_type": "code",
   "execution_count": 4,
   "metadata": {
    "collapsed": true
   },
   "outputs": [],
   "source": [
    "# https://matplotlib.org/examples/subplots_axes_and_figures/subplot_demo.html\n",
    "\n",
    "x1 = np.linspace(0.0, 5.0)\n",
    "x2 = np.linspace(0.0, 2.0)\n",
    "\n",
    "y1 = np.cos(2 * np.pi * x1) * np.exp(-x1)\n",
    "y2 = np.cos(2 * np.pi * x2)"
   ]
  },
  {
   "cell_type": "code",
   "execution_count": 5,
   "metadata": {},
   "outputs": [
    {
     "name": "stdout",
     "output_type": "stream",
     "text": [
      "unknown command: ['line[]'] ('damped', {}) {}\n"
     ]
    },
    {
     "ename": "AttributeError",
     "evalue": "'NoneType' object has no attribute 'label'",
     "output_type": "error",
     "traceback": [
      "\u001b[0;31m---------------------------------------------------------------------------\u001b[0m",
      "\u001b[0;31mAttributeError\u001b[0m                            Traceback (most recent call last)",
      "\u001b[0;32m<ipython-input-5-b7f0886e023f>\u001b[0m in \u001b[0;36m<module>\u001b[0;34m()\u001b[0m\n\u001b[1;32m     11\u001b[0m \u001b[0mchart\u001b[0m\u001b[0;34m.\u001b[0m\u001b[0mspine\u001b[0m\u001b[0;34m.\u001b[0m\u001b[0mbottom\u001b[0m\u001b[0;34m.\u001b[0m\u001b[0mticks\u001b[0m\u001b[0;34m.\u001b[0m\u001b[0mmajor\u001b[0m\u001b[0;34m(\u001b[0m\u001b[0;34m[\u001b[0m\u001b[0;36m1\u001b[0m\u001b[0;34m/\u001b[0m\u001b[0;36m4\u001b[0m\u001b[0;34m,\u001b[0m \u001b[0;36m3\u001b[0m\u001b[0;34m/\u001b[0m\u001b[0;36m4\u001b[0m\u001b[0;34m,\u001b[0m \u001b[0;36m5\u001b[0m\u001b[0;34m/\u001b[0m\u001b[0;36m4\u001b[0m\u001b[0;34m,\u001b[0m \u001b[0;36m7\u001b[0m\u001b[0;34m/\u001b[0m\u001b[0;36m4\u001b[0m\u001b[0;34m,\u001b[0m \u001b[0;36m5\u001b[0m\u001b[0;34m]\u001b[0m\u001b[0;34m)\u001b[0m\u001b[0;34m\u001b[0m\u001b[0m\n\u001b[1;32m     12\u001b[0m \u001b[0;34m\u001b[0m\u001b[0m\n\u001b[0;32m---> 13\u001b[0;31m \u001b[0mchart\u001b[0m\u001b[0;34m.\u001b[0m\u001b[0mline\u001b[0m\u001b[0;34m[\u001b[0m\u001b[0;34m'damped'\u001b[0m\u001b[0;34m]\u001b[0m\u001b[0;34m.\u001b[0m\u001b[0mlabel\u001b[0m\u001b[0;34m(\u001b[0m\u001b[0;34m'damped oscillation'\u001b[0m\u001b[0;34m)\u001b[0m\u001b[0;34m\u001b[0m\u001b[0m\n\u001b[0m\u001b[1;32m     14\u001b[0m \u001b[0mchart\u001b[0m\u001b[0;34m.\u001b[0m\u001b[0mline\u001b[0m\u001b[0;34m[\u001b[0m\u001b[0;34m'undamped'\u001b[0m\u001b[0;34m]\u001b[0m\u001b[0;34m.\u001b[0m\u001b[0mlabel\u001b[0m\u001b[0;34m(\u001b[0m\u001b[0;34m'undamped oscillation'\u001b[0m\u001b[0;34m)\u001b[0m\u001b[0;34m\u001b[0m\u001b[0m\n\u001b[1;32m     15\u001b[0m \u001b[0;34m\u001b[0m\u001b[0m\n",
      "\u001b[0;31mAttributeError\u001b[0m: 'NoneType' object has no attribute 'label'"
     ]
    }
   ],
   "source": [
    "chart = less.Chart(9,3)\n",
    "\n",
    "chart.plot(x=[0.1,3.1], y=[0,0], linestyle='--', color='#dddddd')\n",
    "chart.plot(name='undamped', x=x2, y=y2, linestyle='-', color='grey')\n",
    "chart.plot(name='damped', x=x1, y=y1, linestyle='-', color='orange')\n",
    "\n",
    "chart.spine.left.visible(True)\n",
    "chart.spine.left.ticks.major([-1, 0, 1])\n",
    "chart.spine.left.ticks.minor([-0.5, 0.5])\n",
    "\n",
    "chart.spine.bottom.ticks.major([1/4, 3/4, 5/4, 7/4, 5])\n",
    "\n",
    "chart.line['damped'].label('damped oscillation')\n",
    "chart.line['undamped'].label('undamped oscillation')\n",
    "\n",
    "chart.spine.left.label('magnitude')\n",
    "chart.spine.bottom.label('time (s)')\n",
    "chart.title('Effects of damping')\n",
    "\n",
    "chart.render()\n"
   ]
  },
  {
   "cell_type": "code",
   "execution_count": null,
   "metadata": {
    "collapsed": true
   },
   "outputs": [],
   "source": []
  },
  {
   "cell_type": "code",
   "execution_count": null,
   "metadata": {},
   "outputs": [],
   "source": [
    "import json\n",
    "\n",
    "import matplotlib.pyplot as plt\n",
    "\n",
    "def convert(h):\n",
    "    return int(h[1:3],16),int(h[3:5],16),int(h[5:7],16)\n",
    "\n",
    "with open('colors.json','r') as f:\n",
    "    data = json.load(f)\n",
    "\n",
    "d = [convert(v) for k,v in data['blue'].items() if len(k) == 3]\n",
    "print(d)\n",
    "\n",
    "plt.plot([i[0] for i in d],[i[1] for i in d],'o-')\n",
    "plt.plot([i[1] for i in d],[i[2] for i in d],'o-')\n",
    "plt.plot([i[2] for i in d],[i[0] for i in d],'o-')\n",
    "plt.show()\n"
   ]
  },
  {
   "cell_type": "code",
   "execution_count": null,
   "metadata": {},
   "outputs": [],
   "source": [
    "import less\n",
    "\n",
    "chart = less.Chart(9,3)\n",
    "chart.line[456]"
   ]
  },
  {
   "cell_type": "code",
   "execution_count": null,
   "metadata": {
    "collapsed": true
   },
   "outputs": [],
   "source": []
  }
 ],
 "metadata": {
  "kernelspec": {
   "display_name": "Python 3",
   "language": "python",
   "name": "python3"
  },
  "language_info": {
   "codemirror_mode": {
    "name": "ipython",
    "version": 3
   },
   "file_extension": ".py",
   "mimetype": "text/x-python",
   "name": "python",
   "nbconvert_exporter": "python",
   "pygments_lexer": "ipython3",
   "version": "3.6.3"
  }
 },
 "nbformat": 4,
 "nbformat_minor": 2
}
